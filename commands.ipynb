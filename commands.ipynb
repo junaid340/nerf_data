!python eval.py --root_dir "data/dabba/" --dataset_name llff --scene_name 'dabba' --img_wh 478 225 --spheric_poses --N_importance 64 --ckpt_path 'ckpts/dabba/epoch=29.ckpt'
!python train.py --dataset_name llff --root_dir "data/dabba/" --N_importance 64 --img_wh 478 225 --spheric --use_disp --num_epochs 30 --batch_size 1024 --optimizer adam --lr 5e-4 --lr_scheduler cosine --exp_name dabba
